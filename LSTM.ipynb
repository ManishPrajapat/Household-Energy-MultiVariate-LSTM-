{
 "cells": [
  {
   "cell_type": "code",
   "execution_count": 61,
   "metadata": {
    "collapsed": true
   },
   "outputs": [],
   "source": [
    "#Total data size 19,734 X 29 "
   ]
  },
  {
   "cell_type": "code",
   "execution_count": 176,
   "metadata": {
    "collapsed": false
   },
   "outputs": [],
   "source": [
    "from math import sqrt\n",
    "from numpy import concatenate\n",
    "\n",
    "import matplotlib.pyplot as plt\n",
    "plt.style.use('fivethirtyeight')\n",
    "plt.rcParams['axes.labelsize'] = 14\n",
    "plt.rcParams['xtick.labelsize'] = 12\n",
    "plt.rcParams['ytick.labelsize'] = 12\n",
    "plt.rcParams['text.color'] = 'k'\n",
    "plt.rcParams[\"figure.figsize\"] = [22,22]\n",
    "\n",
    "from pandas import read_csv\n",
    "from pandas import DataFrame\n",
    "from pandas import concat\n",
    "import pandas as pd\n",
    "\n",
    "from sklearn.preprocessing import MinMaxScaler\n",
    "from sklearn.metrics import mean_squared_error\n",
    "\n",
    "from keras.models import Sequential\n",
    "from keras.layers import Dense\n",
    "from keras.layers import LSTM"
   ]
  },
  {
   "cell_type": "code",
   "execution_count": 177,
   "metadata": {
    "collapsed": false
   },
   "outputs": [],
   "source": [
    "data = read_csv('data.csv')\n",
    "data.date = pd.to_datetime(data.date)\n",
    "data.set_index(['date'],inplace=True)\n",
    "values = data.values"
   ]
  },
  {
   "cell_type": "code",
   "execution_count": 178,
   "metadata": {
    "collapsed": false
   },
   "outputs": [
    {
     "data": {
      "text/plain": [
       "(19735, 28)"
      ]
     },
     "execution_count": 178,
     "metadata": {},
     "output_type": "execute_result"
    }
   ],
   "source": [
    "values.shape"
   ]
  },
  {
   "cell_type": "markdown",
   "metadata": {},
   "source": [
    "#### Data Preparation"
   ]
  },
  {
   "cell_type": "code",
   "execution_count": 179,
   "metadata": {
    "collapsed": true
   },
   "outputs": [],
   "source": [
    "# convert series to supervised learning\n",
    "def series_to_supervised(data, n_in=1, n_out=1, dropnan=True):\n",
    "\tn_vars = 1 if type(data) is list else data.shape[1]\n",
    "\tdf = DataFrame(data)\n",
    "\tcols, names = list(), list()\n",
    "\t# input sequence (t-n, ... t-1)\n",
    "\tfor i in range(n_in, 0, -1):\n",
    "\t\tcols.append(df.shift(i))\n",
    "\t\tnames += [('var%d(t-%d)' % (j+1, i)) for j in range(n_vars)]\n",
    "\t# forecast sequence (t, t+1, ... t+n)\n",
    "\tfor i in range(0, n_out):\n",
    "\t\tcols.append(df.shift(-i))\n",
    "\t\tif i == 0:\n",
    "\t\t\tnames += [('var%d(t)' % (j+1)) for j in range(n_vars)]\n",
    "\t\telse:\n",
    "\t\t\tnames += [('var%d(t+%d)' % (j+1, i)) for j in range(n_vars)]\n",
    "\t# put it all together\n",
    "\tagg = concat(cols, axis=1)\n",
    "\tagg.columns = names\n",
    "\t# drop rows with NaN values\n",
    "\tif dropnan:\n",
    "\t\tagg.dropna(inplace=True)\n",
    "\treturn agg\n"
   ]
  },
  {
   "cell_type": "code",
   "execution_count": 180,
   "metadata": {
    "collapsed": false
   },
   "outputs": [],
   "source": [
    "# ensure all data is float\n",
    "values = values.astype('float32')\n",
    "# normalize features\n",
    "scaler = MinMaxScaler(feature_range=(0, 1))\n",
    "scaled = scaler.fit_transform(values)"
   ]
  },
  {
   "cell_type": "code",
   "execution_count": 181,
   "metadata": {
    "collapsed": true
   },
   "outputs": [],
   "source": [
    "# frame as supervised learning\n",
    "reframed = series_to_supervised(scaled, 1, 1)"
   ]
  },
  {
   "cell_type": "code",
   "execution_count": 182,
   "metadata": {
    "collapsed": false
   },
   "outputs": [
    {
     "name": "stdout",
     "output_type": "stream",
     "text": [
      "   var1(t-1)  var2(t-1)  var3(t-1)  var4(t-1)  var5(t-1)  var6(t-1)  \\\n",
      "1   0.046729   0.428571   0.327349   0.566187   0.225345   0.684038   \n",
      "2   0.046729   0.428571   0.327349   0.541326   0.225345   0.682140   \n",
      "3   0.037383   0.428571   0.327349   0.530502   0.225345   0.679445   \n",
      "4   0.037383   0.571429   0.327349   0.524080   0.225345   0.678414   \n",
      "5   0.046729   0.571429   0.327349   0.531419   0.225345   0.676727   \n",
      "\n",
      "   var7(t-1)  var8(t-1)  var9(t-1)  var10(t-1)    ...     var20(t-1)  \\\n",
      "1   0.215188   0.746066   0.351351    0.764262    ...       0.677290   \n",
      "2   0.215188   0.748871   0.351351    0.782437    ...       0.678532   \n",
      "3   0.215188   0.755569   0.344745    0.778062    ...       0.676049   \n",
      "4   0.215188   0.758685   0.341441    0.770949    ...       0.671909   \n",
      "5   0.215188   0.758685   0.341441    0.762697    ...       0.671909   \n",
      "\n",
      "   var21(t-1)  var22(t-1)  var23(t-1)  var24(t-1)  var25(t-1)  var26(t-1)  \\\n",
      "1    0.372990    0.097675    0.894737    0.500000    0.953846    0.538462   \n",
      "2    0.369239    0.100000    0.894737    0.476190    0.894872    0.533937   \n",
      "3    0.365488    0.102327    0.894737    0.452381    0.835897    0.529412   \n",
      "4    0.361736    0.104652    0.894737    0.428571    0.776923    0.524887   \n",
      "5    0.357985    0.106977    0.894737    0.404762    0.717949    0.520362   \n",
      "\n",
      "   var27(t-1)  var28(t-1)   var1(t)  \n",
      "1    0.265449    0.265449  0.046729  \n",
      "2    0.372083    0.372083  0.037383  \n",
      "3    0.572848    0.572848  0.037383  \n",
      "4    0.908261    0.908261  0.046729  \n",
      "5    0.201611    0.201611  0.037383  \n",
      "\n",
      "[5 rows x 29 columns]\n"
     ]
    }
   ],
   "source": [
    "# drop columns we don't want to predict\n",
    "column_nos=range(29,56)\n",
    "reframed.drop(reframed.columns[column_nos], axis=1, inplace=True)\n",
    "print(reframed.head())"
   ]
  },
  {
   "cell_type": "markdown",
   "metadata": {},
   "source": [
    "### Define and fit model"
   ]
  },
  {
   "cell_type": "code",
   "execution_count": 183,
   "metadata": {
    "collapsed": false
   },
   "outputs": [],
   "source": [
    "# split into train and test sets\n",
    "values = reframed.values\n",
    "n_train_hours = 10000\n",
    "train = values[:n_train_hours, :]\n",
    "test = values[n_train_hours:, :]"
   ]
  },
  {
   "cell_type": "code",
   "execution_count": 184,
   "metadata": {
    "collapsed": true
   },
   "outputs": [],
   "source": [
    "# split into input and outputs\n",
    "train_X, train_y = train[:, :-1], train[:, -1]\n",
    "test_X, test_y = test[:, :-1], test[:, -1]"
   ]
  },
  {
   "cell_type": "code",
   "execution_count": 185,
   "metadata": {
    "collapsed": false
   },
   "outputs": [
    {
     "name": "stdout",
     "output_type": "stream",
     "text": [
      "((10000, 1, 28), (10000,), (9734, 1, 28), (9734,))\n"
     ]
    }
   ],
   "source": [
    "# reshape input to be 3D [total samples, timesteps, features]\n",
    "train_X = train_X.reshape((train_X.shape[0], 1, train_X.shape[1]))\n",
    "test_X = test_X.reshape((test_X.shape[0], 1, test_X.shape[1]))\n",
    "print(train_X.shape, train_y.shape, test_X.shape, test_y.shape)"
   ]
  },
  {
   "cell_type": "code",
   "execution_count": null,
   "metadata": {
    "collapsed": true
   },
   "outputs": [],
   "source": []
  },
  {
   "cell_type": "code",
   "execution_count": 186,
   "metadata": {
    "collapsed": true
   },
   "outputs": [],
   "source": [
    "#Designing\n",
    "model= Sequential()\n",
    "model.add(LSTM(50,input_shape=(train_X.shape[1], train_X.shape[2])))\n",
    "model.add(Dense(1))\n",
    "model.compile(loss='mae', optimizer='adam')"
   ]
  },
  {
   "cell_type": "code",
   "execution_count": 187,
   "metadata": {
    "collapsed": false
   },
   "outputs": [
    {
     "name": "stdout",
     "output_type": "stream",
     "text": [
      "Train on 10000 samples, validate on 9734 samples\n",
      "Epoch 1/50\n",
      "0s - loss: 0.0512 - val_loss: 0.0358\n",
      "Epoch 2/50\n",
      "0s - loss: 0.0404 - val_loss: 0.0309\n",
      "Epoch 3/50\n",
      "0s - loss: 0.0361 - val_loss: 0.0302\n",
      "Epoch 4/50\n",
      "0s - loss: 0.0342 - val_loss: 0.0315\n",
      "Epoch 5/50\n",
      "0s - loss: 0.0334 - val_loss: 0.0377\n",
      "Epoch 6/50\n",
      "0s - loss: 0.0361 - val_loss: 0.0437\n",
      "Epoch 7/50\n",
      "0s - loss: 0.0307 - val_loss: 0.0375\n",
      "Epoch 8/50\n",
      "0s - loss: 0.0303 - val_loss: 0.0380\n",
      "Epoch 9/50\n",
      "0s - loss: 0.0306 - val_loss: 0.0421\n",
      "Epoch 10/50\n",
      "0s - loss: 0.0309 - val_loss: 0.0393\n",
      "Epoch 11/50\n",
      "0s - loss: 0.0314 - val_loss: 0.0269\n",
      "Epoch 12/50\n",
      "0s - loss: 0.0312 - val_loss: 0.0260\n",
      "Epoch 13/50\n",
      "0s - loss: 0.0313 - val_loss: 0.0287\n",
      "Epoch 14/50\n",
      "0s - loss: 0.0311 - val_loss: 0.0257\n",
      "Epoch 15/50\n",
      "0s - loss: 0.0350 - val_loss: 0.0268\n",
      "Epoch 16/50\n",
      "0s - loss: 0.0303 - val_loss: 0.0280\n",
      "Epoch 17/50\n",
      "0s - loss: 0.0295 - val_loss: 0.0293\n",
      "Epoch 18/50\n",
      "0s - loss: 0.0295 - val_loss: 0.0310\n",
      "Epoch 19/50\n",
      "0s - loss: 0.0294 - val_loss: 0.0311\n",
      "Epoch 20/50\n",
      "0s - loss: 0.0292 - val_loss: 0.0286\n",
      "Epoch 21/50\n",
      "0s - loss: 0.0287 - val_loss: 0.0273\n",
      "Epoch 22/50\n",
      "0s - loss: 0.0289 - val_loss: 0.0297\n",
      "Epoch 23/50\n",
      "0s - loss: 0.0292 - val_loss: 0.0308\n",
      "Epoch 24/50\n",
      "0s - loss: 0.0293 - val_loss: 0.0323\n",
      "Epoch 25/50\n",
      "0s - loss: 0.0291 - val_loss: 0.0302\n",
      "Epoch 26/50\n",
      "0s - loss: 0.0288 - val_loss: 0.0303\n",
      "Epoch 27/50\n",
      "0s - loss: 0.0287 - val_loss: 0.0316\n",
      "Epoch 28/50\n",
      "0s - loss: 0.0290 - val_loss: 0.0335\n",
      "Epoch 29/50\n",
      "0s - loss: 0.0289 - val_loss: 0.0320\n",
      "Epoch 30/50\n",
      "0s - loss: 0.0289 - val_loss: 0.0301\n",
      "Epoch 31/50\n",
      "0s - loss: 0.0288 - val_loss: 0.0309\n",
      "Epoch 32/50\n",
      "0s - loss: 0.0288 - val_loss: 0.0329\n",
      "Epoch 33/50\n",
      "0s - loss: 0.0289 - val_loss: 0.0324\n",
      "Epoch 34/50\n",
      "0s - loss: 0.0291 - val_loss: 0.0308\n",
      "Epoch 35/50\n",
      "0s - loss: 0.0291 - val_loss: 0.0281\n",
      "Epoch 36/50\n",
      "0s - loss: 0.0287 - val_loss: 0.0288\n",
      "Epoch 37/50\n",
      "0s - loss: 0.0289 - val_loss: 0.0306\n",
      "Epoch 38/50\n",
      "0s - loss: 0.0291 - val_loss: 0.0291\n",
      "Epoch 39/50\n",
      "0s - loss: 0.0292 - val_loss: 0.0293\n",
      "Epoch 40/50\n",
      "0s - loss: 0.0290 - val_loss: 0.0289\n",
      "Epoch 41/50\n",
      "0s - loss: 0.0292 - val_loss: 0.0277\n",
      "Epoch 42/50\n",
      "0s - loss: 0.0292 - val_loss: 0.0271\n",
      "Epoch 43/50\n",
      "0s - loss: 0.0291 - val_loss: 0.0264\n",
      "Epoch 44/50\n",
      "0s - loss: 0.0291 - val_loss: 0.0257\n",
      "Epoch 45/50\n",
      "0s - loss: 0.0290 - val_loss: 0.0253\n",
      "Epoch 46/50\n",
      "0s - loss: 0.0291 - val_loss: 0.0254\n",
      "Epoch 47/50\n",
      "0s - loss: 0.0293 - val_loss: 0.0264\n",
      "Epoch 48/50\n",
      "0s - loss: 0.0295 - val_loss: 0.0282\n",
      "Epoch 49/50\n",
      "0s - loss: 0.0294 - val_loss: 0.0289\n",
      "Epoch 50/50\n",
      "0s - loss: 0.0295 - val_loss: 0.0290\n"
     ]
    }
   ],
   "source": [
    "#fitting the network\n",
    "history = model.fit(train_X, train_y, epochs=50, batch_size=72,validation_data=(test_X,test_y),verbose=2, shuffle=False)"
   ]
  },
  {
   "cell_type": "code",
   "execution_count": 188,
   "metadata": {
    "collapsed": false
   },
   "outputs": [
    {
     "data": {
      "image/png": "[encoded data removed]",
      "text/plain": [
       "<matplotlib.figure.Figure at 0x7f627bff63d0>"
      ]
     },
     "metadata": {},
     "output_type": "display_data"
    }
   ],
   "source": [
    "# plot history\n",
    "%matplotlib inline\n",
    "plt.plot(history.history['loss'], label='train')\n",
    "plt.plot(history.history['val_loss'], label='test')\n",
    "plt.legend()\n",
    "plt.show()"
   ]
  },
  {
   "cell_type": "markdown",
   "metadata": {},
   "source": [
    "#### Forecast"
   ]
  },
  {
   "cell_type": "code",
   "execution_count": 189,
   "metadata": {
    "collapsed": false
   },
   "outputs": [],
   "source": [
    "yhat = model.predict(test_X)\n",
    "test_X = test_X.reshape((test_X.shape[0], test_X.shape[2])) # Convert 3d to 2d"
   ]
  },
  {
   "cell_type": "code",
   "execution_count": null,
   "metadata": {
    "collapsed": false
   },
   "outputs": [],
   "source": []
  },
  {
   "cell_type": "code",
   "execution_count": 190,
   "metadata": {
    "collapsed": false
   },
   "outputs": [],
   "source": [
    "# invert scaling for forecast\n",
    "inv_yhat = concatenate((yhat, test_X[:, 1:]), axis=1)\n",
    "inv_yhat = scaler.inverse_transform(inv_yhat)\n",
    "inv_yhat = inv_yhat[:,0]"
   ]
  },
  {
   "cell_type": "code",
   "execution_count": 191,
   "metadata": {
    "collapsed": false
   },
   "outputs": [],
   "source": [
    "# invert scaling for actual\n",
    "test_y = test_y.reshape((len(test_y), 1))\n",
    "inv_y = concatenate((test_y, test_X[:, 1:]), axis=1)\n",
    "inv_y = scaler.inverse_transform(inv_y)\n",
    "inv_y = inv_y[:,0]"
   ]
  },
  {
   "cell_type": "code",
   "execution_count": 192,
   "metadata": {
    "collapsed": false
   },
   "outputs": [
    {
     "name": "stdout",
     "output_type": "stream",
     "text": [
      "Test RMSE: 65.591\n"
     ]
    }
   ],
   "source": [
    "# calculate RMSE\n",
    "rmse = sqrt(mean_squared_error(inv_y, inv_yhat))\n",
    "print('Test RMSE: %.3f' % rmse)"
   ]
  },
  {
   "cell_type": "code",
   "execution_count": 195,
   "metadata": {
    "collapsed": false
   },
   "outputs": [
    {
     "data": {
      "text/plain": [
       "[]"
      ]
     },
     "execution_count": 195,
     "metadata": {},
     "output_type": "execute_result"
    },
    {
     "data": {
      "image/png": "[encoded data removed]",
      "text/plain": [
       "<matplotlib.figure.Figure at 0x7f6273d70a50>"
      ]
     },
     "metadata": {},
     "output_type": "display_data"
    }
   ],
   "source": [
    "%matplotlib inline\n",
    "plt.plot(inv_y[1500:1600])\n",
    "plt.plot(inv_yhat[1500:1600])\n",
    "plt.plot()"
   ]
  },
  {
   "cell_type": "code",
   "execution_count": 194,
   "metadata": {
    "collapsed": false
   },
   "outputs": [],
   "source": [
    "df = pd.DataFrame({'Actual': inv_y,'Predicted':inv_yhat})"
   ]
  },
  {
   "cell_type": "code",
   "execution_count": null,
   "metadata": {
    "collapsed": false
   },
   "outputs": [],
   "source": []
  },
  {
   "cell_type": "code",
   "execution_count": null,
   "metadata": {
    "collapsed": true
   },
   "outputs": [],
   "source": []
  }
 ],
 "metadata": {
  "kernelspec": {
   "display_name": "Python 2",
   "language": "python",
   "name": "python2"
  },
  "language_info": {
   "codemirror_mode": {
    "name": "ipython",
    "version": 2
   },
   "file_extension": ".py",
   "mimetype": "text/x-python",
   "name": "python",
   "nbconvert_exporter": "python",
   "pygments_lexer": "ipython2",
   "version": "2.7.12"
  }
 },
 "nbformat": 4,
 "nbformat_minor": 0
}
